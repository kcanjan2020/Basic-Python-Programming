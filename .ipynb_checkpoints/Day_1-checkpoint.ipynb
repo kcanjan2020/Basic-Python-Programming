{
 "cells": [
  {
   "cell_type": "code",
   "execution_count": null,
   "metadata": {},
   "outputs": [],
   "source": []
  },
  {
   "cell_type": "code",
   "execution_count": 12,
   "metadata": {},
   "outputs": [
    {
     "name": "stdout",
     "output_type": "stream",
     "text": [
      "1 \n",
      "2 \n",
      "2 \n",
      "3 \n",
      "3 \n",
      "3 \n",
      "4 \n",
      "4 \n",
      "4 \n",
      "4 \n"
     ]
    }
   ],
   "source": [
    "for i in range(1,5):\n",
    "    for j in range(i):\n",
    "        print(i, end=' ')\n",
    "        print()"
   ]
  },
  {
   "cell_type": "code",
   "execution_count": 28,
   "metadata": {},
   "outputs": [
    {
     "name": "stdout",
     "output_type": "stream",
     "text": [
      "Current Number= 1 Previous Number= 0 Sum= 1\n",
      "Current Number= 2 Previous Number= 1 Sum= 3\n",
      "Current Number= 3 Previous Number= 2 Sum= 5\n",
      "Current Number= 4 Previous Number= 3 Sum= 7\n",
      "Current Number= 5 Previous Number= 4 Sum= 9\n",
      "Current Number= 6 Previous Number= 5 Sum= 11\n",
      "Current Number= 7 Previous Number= 6 Sum= 13\n",
      "Current Number= 8 Previous Number= 7 Sum= 15\n",
      "Current Number= 9 Previous Number= 8 Sum= 17\n"
     ]
    }
   ],
   "source": [
    "previous_Number=0\n",
    "sum=0\n",
    "for i in range(1,10):\n",
    "    sum=previous_Number+i\n",
    "    print(\"Current Number=\",i,\"Previous Number=\",previous_Number,\"Sum=\",sum)\n",
    "    previous_Number=i\n",
    "   #count ++"
   ]
  },
  {
   "cell_type": "code",
   "execution_count": null,
   "metadata": {},
   "outputs": [],
   "source": []
  }
 ],
 "metadata": {
  "kernelspec": {
   "display_name": "Python 3 (ipykernel)",
   "language": "python",
   "name": "python3"
  },
  "language_info": {
   "codemirror_mode": {
    "name": "ipython",
    "version": 3
   },
   "file_extension": ".py",
   "mimetype": "text/x-python",
   "name": "python",
   "nbconvert_exporter": "python",
   "pygments_lexer": "ipython3",
   "version": "3.11.1"
  }
 },
 "nbformat": 4,
 "nbformat_minor": 2
}

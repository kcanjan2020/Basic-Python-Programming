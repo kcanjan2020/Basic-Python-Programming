{
 "cells": [
  {
   "cell_type": "markdown",
   "id": "65d50ff3",
   "metadata": {},
   "source": [
    "# ==>Python Day_4<=="
   ]
  },
  {
   "cell_type": "code",
   "execution_count": 7,
   "id": "577cf08b",
   "metadata": {},
   "outputs": [
    {
     "name": "stdout",
     "output_type": "stream",
     "text": [
      "10\n",
      "20\n",
      "55\n",
      "[10, 20, 55]\n"
     ]
    }
   ],
   "source": [
    "# Iterate the kist of numbers and print onle those numbers which are divisible by 5. Given List is [10,20,33,46,55]\n",
    "for i in[10,20,33,46,55]:\n",
    "    if(i%5==0):\n",
    "        print(i)\n",
    "#using List\n",
    "l=[]\n",
    "for i in[10,20,33,46,55]:\n",
    "    if(i%5==0):\n",
    "        l.append(i)\n",
    "print(l)\n"
   ]
  },
  {
   "cell_type": "markdown",
   "id": "1daeab49",
   "metadata": {},
   "source": [
    "#      ==> print the following Pattern<==\n",
    "    1\n",
    "    2 2\n",
    "    3 3 3\n",
    "    4 4 4 4\n",
    "    5 5 5 5 5"
   ]
  },
  {
   "cell_type": "code",
   "execution_count": 1,
   "id": "7993cff6",
   "metadata": {},
   "outputs": [
    {
     "name": "stdout",
     "output_type": "stream",
     "text": [
      "1 \n",
      "2 2 \n",
      "3 3 3 \n",
      "4 4 4 4 \n",
      "5 5 5 5 5 \n"
     ]
    }
   ],
   "source": [
    "for i in range(1,6):\n",
    "    for j in range(i):\n",
    "        print(i, end=\" \")\n",
    "    print(end=\"\\n\")"
   ]
  },
  {
   "cell_type": "markdown",
   "id": "d049a087",
   "metadata": {},
   "source": [
    "# ==>Write a program to check if the given number is palindrome numbers<=="
   ]
  },
  {
   "cell_type": "code",
   "execution_count": 11,
   "id": "64023668",
   "metadata": {},
   "outputs": [
    {
     "name": "stdout",
     "output_type": "stream",
     "text": [
      "Enter a Number:12321\n",
      "The number is palindrome!\n"
     ]
    }
   ],
   "source": [
    "def palindrome(num):\n",
    "    temp=num\n",
    "    rev=0\n",
    "    while(num>0):         #12321      \n",
    "        rem=num%10        #rem=1       #rem =2      #rem 3         #rem=2           #rem=1\n",
    "        rev=rev*10+rem    #0*10+1=1    #1*10+2=12   #12*10+3=123   #123*10+2=1232   #1232*10+1=12321\n",
    "        num=num//10       #num=1232    #123         #12            #1\n",
    "    if(temp==rev):\n",
    "        print(\"The number is palindrome!\")\n",
    "    else:\n",
    "        print(\"The Number is Not a palindrome!\")\n",
    "num=int(input(\"Enter a Number:\"))\n",
    "palindrome(num)\n",
    "\n",
    "    "
   ]
  },
  {
   "cell_type": "code",
   "execution_count": 9,
   "id": "4d28d1dd",
   "metadata": {},
   "outputs": [
    {
     "name": "stdout",
     "output_type": "stream",
     "text": [
      "Enter a Number:1234567\n",
      " The Number is Not a palindrome!\n"
     ]
    }
   ],
   "source": [
    "num=int(input(\"Enter a Number:\"))\n",
    "palindrome(num)"
   ]
  },
  {
   "cell_type": "markdown",
   "id": "a50b1d1b",
   "metadata": {},
   "source": [
    "#  ==>Class and Object in Python<==\n",
    "        --> Class <ClassName>:\n",
    "        -->Example\n",
    "                    "
   ]
  },
  {
   "cell_type": "code",
   "execution_count": 39,
   "id": "9ee7451f",
   "metadata": {},
   "outputs": [
    {
     "name": "stdout",
     "output_type": "stream",
     "text": [
      "john\n",
      "36\n",
      "john(36)\n",
      "The Given Name is: john  And Age is : 36\n",
      "None\n"
     ]
    }
   ],
   "source": [
    "class Person:\n",
    "    def __init__(self,name,age):\n",
    "        self.name=name\n",
    "        self.age=age\n",
    "    #adding str Function\n",
    "    def __str__(self):\n",
    "        return f\"{self.name}({self.age})\" \n",
    "        #--> return(\"New Object\")\n",
    "       # OR return str(self.name)+str(self.age)\n",
    "    #Another Function\n",
    "    def myfunc(self):\n",
    "        print(\"The Given Name is:\",self.name, \" And Age is :\",self.age)\n",
    "    \n",
    "p1 = Person(\"john\",36)\n",
    "p2 = Person(\"Ram\",25)\n",
    "print(p1.name)\n",
    "print(p1.age)\n",
    "print(p1)\n",
    "#--<print(p2)\n",
    "print(p1.myfunc())"
   ]
  },
  {
   "cell_type": "code",
   "execution_count": 45,
   "id": "69cdda71",
   "metadata": {},
   "outputs": [
    {
     "name": "stdout",
     "output_type": "stream",
     "text": [
      "Area of Room= 1275.0\n"
     ]
    }
   ],
   "source": [
    "# Create a Class\n",
    "class Room:\n",
    "    length=0.0\n",
    "    breadth=0.0\n",
    "    #method to calculate area\n",
    "    def calculate_area(self):\n",
    "        print(\"Area of Room=\", self.length*self.breadth)\n",
    "# create object of Room class\n",
    "study_room=Room()\n",
    "#Assign values to all the properties\n",
    "study_room.length=42.5\n",
    "study_room.breadth=30.0\n",
    "#Access method inside class\n",
    "study_room.calculate_area()"
   ]
  },
  {
   "cell_type": "markdown",
   "id": "e52daef0",
   "metadata": {},
   "source": [
    "#   ==> Inheritance in Python <=="
   ]
  },
  {
   "cell_type": "code",
   "execution_count": null,
   "id": "22ab582a",
   "metadata": {},
   "outputs": [],
   "source": [
    "class Animal:\n",
    "    # Attributes and method of the parent class\n",
    "    name=\"\"\n",
    "    def eat(self):\n",
    "        print(\"I can eat\")\n",
    "#Inherit From Animal class\n",
    "class Dog(Animal):\n",
    "    #New method in sub class\n",
    "    def display(self):\n",
    "        #Access name attributes of superclass using self\n",
    "        print(\"My name is\",self.name)\n",
    "#create an object of the subclass\n",
    "labrador=Dog()\n",
    "#Access superclass attributes and method\n",
    "labrador.name=\"Ramu\"\n",
    "labrador.eat()\n",
    "#call subclass method\n",
    "labrador.display()"
   ]
  },
  {
   "cell_type": "markdown",
   "id": "745cdcea",
   "metadata": {},
   "source": [
    "# Function override in python"
   ]
  },
  {
   "cell_type": "code",
   "execution_count": 56,
   "id": "1d367200",
   "metadata": {},
   "outputs": [
    {
     "name": "stdout",
     "output_type": "stream",
     "text": [
      "I Like to eat Bones\n"
     ]
    }
   ],
   "source": [
    "class Animal:\n",
    "    # Attributes and method of the parent class\n",
    "    name=\"\"\n",
    "    def eat(self):\n",
    "        print(\"I can eat\")\n",
    "#Inherit From Animal class\n",
    "class Dog(Animal):\n",
    "    #Override eat() Method\n",
    "    def eat(self):\n",
    "        #Access name attributes of superclass using self\n",
    "        print(\"I Like to eat Bones\")\n",
    "#create an object of the subclass\n",
    "labrador=Dog()\n",
    "#Access superclass attributes and method\n",
    "labrador.name=\"Ramu\"\n",
    "labrador.eat()"
   ]
  },
  {
   "cell_type": "markdown",
   "id": "3db20968",
   "metadata": {},
   "source": [
    "#     ==>Call  Method of the superclass using super()<==\n",
    "#     ==> OR Supper() method in python Inheritance<=="
   ]
  },
  {
   "cell_type": "code",
   "execution_count": 55,
   "id": "df26facd",
   "metadata": {},
   "outputs": [
    {
     "name": "stdout",
     "output_type": "stream",
     "text": [
      "I can eat\n",
      "I Like to eat Bones\n"
     ]
    }
   ],
   "source": [
    "class Animal:\n",
    "    # Attributes and method of the parent class\n",
    "    name=\"\"\n",
    "    def eat(self):\n",
    "        print(\"I can eat\")\n",
    "#Inherit From Animal class\n",
    "class Dog(Animal):\n",
    "    #New override\n",
    "    def eat(self):\n",
    "        # call eat Method of the superclass using super()\n",
    "        super().eat()\n",
    "        print(\"I Like to eat Bones\")\n",
    "#create an object of the subclass\n",
    "labrador=Dog()\n",
    "#Access superclass attributes and method\n",
    "labrador.name=\"Ramu\"\n",
    "labrador.eat()\n",
    "#call subclass method"
   ]
  },
  {
   "cell_type": "code",
   "execution_count": null,
   "id": "6d4dbc2f",
   "metadata": {},
   "outputs": [],
   "source": []
  }
 ],
 "metadata": {
  "kernelspec": {
   "display_name": "Python 3 (ipykernel)",
   "language": "python",
   "name": "python3"
  },
  "language_info": {
   "codemirror_mode": {
    "name": "ipython",
    "version": 3
   },
   "file_extension": ".py",
   "mimetype": "text/x-python",
   "name": "python",
   "nbconvert_exporter": "python",
   "pygments_lexer": "ipython3",
   "version": "3.11.1"
  }
 },
 "nbformat": 4,
 "nbformat_minor": 5
}

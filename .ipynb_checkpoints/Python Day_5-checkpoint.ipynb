{
 "cells": [
  {
   "cell_type": "markdown",
   "id": "5065dee8",
   "metadata": {},
   "source": [
    "#                ==>Python Day_5 : Polymorphism in Python<==\n"
   ]
  },
  {
   "cell_type": "code",
   "execution_count": 10,
   "id": "9db92ef8",
   "metadata": {},
   "outputs": [
    {
     "name": "stdout",
     "output_type": "stream",
     "text": [
      "Meow\n",
      "I am a cat. My name is Kitty. I am 2.5 years old.\n",
      "Meow\n",
      "\n",
      "\n",
      "Bark\n",
      "I am a Dog. My name is Fluffy. I am 4 years old.\n",
      "Bark\n",
      "\n",
      "\n"
     ]
    }
   ],
   "source": [
    "class Cat:\n",
    "    def __init__(self,name,age):\n",
    "        self.name=name\n",
    "        self.age=age\n",
    "    def info(self):\n",
    "        print(f\"I am a cat. My name is {self.name}. I am {self.age} years old.\")\n",
    "    def make_sound(self):\n",
    "        print(\"Meow\")\n",
    "class Dog:\n",
    "    def __init__(self,name,age):\n",
    "        self.name=name\n",
    "        self.age=age\n",
    "    def info(self):\n",
    "        print(f\"I am a Dog. My name is {self.name}. I am {self.age} years old.\")\n",
    "        # Equivalent to\n",
    "        #print(\"I am dog. My name is\",self.name,\"I am\",self.age,\"Years old\")\n",
    "        \n",
    "    def make_sound(self):\n",
    "        print(\"Bark\")\n",
    "cat1=Cat(\"Kitty\",2.5)\n",
    "dog1=Dog(\"Fluffy\",4)\n",
    "for animal in(cat1,dog1):\n",
    "    animal.make_sound()\n",
    "    animal.info()\n",
    "    animal.make_sound()\n",
    "    print(\"\\n\")"
   ]
  },
  {
   "cell_type": "markdown",
   "id": "080ff915",
   "metadata": {},
   "source": [
    "#                   ==>Encapsulation in Python<==\n",
    "    --> Here in this program, the encasulation we achieved by strong the code of each module at a specific place ie. different mehods. The abstraction we achived by dividing the complete information or data info category ie. [bio() and interest()] so that it can be reused."
   ]
  },
  {
   "cell_type": "code",
   "execution_count": 13,
   "id": "1e1ac60a",
   "metadata": {},
   "outputs": [
    {
     "name": "stdout",
     "output_type": "stream",
     "text": [
      "Jack Matte\n",
      "Address=> Bakers street London Tax Information=> HUAPK29971 Contact=> 01-777-523-342\n",
      "Fav Food=> Chinese Hobbies=> Python Programming Blood Group=> A+\n"
     ]
    }
   ],
   "source": [
    "class Person:\n",
    "    def __init__(self):\n",
    "        self.name=\"Jack Matte\"\n",
    "    def bio(self):\n",
    "        self.addr=\"Bakers street London\"\n",
    "        self.taxinfo=\"HUAPK29971\"\n",
    "        self.contact=\"01-777-523-342\"\n",
    "        print(\"Address=>\",self.addr,\"Tax Information=>\",self.taxinfo,\"Contact=>\",self.contact)\n",
    "    def inteerest(self):\n",
    "        self.favFood=\"Chinese\"\n",
    "        self.hobbies=\"Python Programming\"\n",
    "        self.bloodGroup=\"A+\"\n",
    "        print(\"Fav Food=>\",self.favFood,\"Hobbies=>\",self.hobbies,\"Blood Group=>\",self.bloodGroup)\n",
    "obj =Person()\n",
    "print(obj.name)\n",
    "obj.bio()\n",
    "obj.inteerest()"
   ]
  },
  {
   "cell_type": "code",
   "execution_count": null,
   "id": "8e0d4c7b",
   "metadata": {},
   "outputs": [
    {
     "name": "stdout",
     "output_type": "stream",
     "text": [
      "msg\n",
      "Enter Your Choice1\n",
      "Available Books\n",
      "C\n",
      "C++\n",
      "Java\n",
      "msg\n",
      "Enter Your Choice2\n",
      "Enter Book Name To Borrow:C++\n",
      "Book Not Available\n",
      "msg\n"
     ]
    }
   ],
   "source": [
    "class Library:\n",
    "    def __init__(self,books):\n",
    "        self.books=books\n",
    "    def list_books(self):\n",
    "        print(\"Available Books\")\n",
    "        for book in self.books:\n",
    "            print(book)\n",
    "    def borrow_book(self,borrow_book):\n",
    "        if borrow_book in self.books:\n",
    "            print(\"Get Your Boook Now\")\n",
    "            self.books.remove(borrow_book)\n",
    "        else:\n",
    "                print(\"Book Not Available\")\n",
    "    def receive_book(self,receive_book):\n",
    "        print(\"You have returned the book\")\n",
    "        self.books.append(receive_book)\n",
    "books=['C','C++','Java']\n",
    "o=Library(books)\n",
    "'''\n",
    "1.Display Book\n",
    "2.Borrow Book\n",
    "3.Return Book\n",
    "'''\n",
    "while True:\n",
    "    print(\"msg\")\n",
    "    ch=int(input(\"Enter Your Choice\"))\n",
    "    if ch==1:\n",
    "        o.list_books()\n",
    "    elif ch==2:\n",
    "        book =input(\"Enter Book Name To Borrow:\")\n",
    "        o.borrow_book(books)\n",
    "    elif ch==3:\n",
    "        book =input(\"Enter Book Name To Returned:\")\n",
    "        o.receive_book(books)\n",
    "    else:\n",
    "        print(\"Thank You come again\")\n",
    "        quit()"
   ]
  },
  {
   "cell_type": "code",
   "execution_count": null,
   "id": "8e0e4b73",
   "metadata": {},
   "outputs": [],
   "source": []
  }
 ],
 "metadata": {
  "kernelspec": {
   "display_name": "Python 3 (ipykernel)",
   "language": "python",
   "name": "python3"
  },
  "language_info": {
   "codemirror_mode": {
    "name": "ipython",
    "version": 3
   },
   "file_extension": ".py",
   "mimetype": "text/x-python",
   "name": "python",
   "nbconvert_exporter": "python",
   "pygments_lexer": "ipython3",
   "version": "3.11.1"
  }
 },
 "nbformat": 4,
 "nbformat_minor": 5
}

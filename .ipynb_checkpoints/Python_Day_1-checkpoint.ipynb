{
 "cells": [
  {
   "cell_type": "markdown",
   "id": "41d83829",
   "metadata": {},
   "source": [
    "                               ==>#Python Day_1<=="
   ]
  },
  {
   "cell_type": "markdown",
   "id": "5246963e",
   "metadata": {},
   "source": [
    "                            ==> First Program in Python and Basic Syntax in Python <=="
   ]
  },
  {
   "cell_type": "code",
   "execution_count": 1,
   "id": "a55e787e",
   "metadata": {},
   "outputs": [
    {
     "name": "stdout",
     "output_type": "stream",
     "text": [
      "Hello, World!\n",
      "Python Programming\n"
     ]
    }
   ],
   "source": [
    "#simple program: print hello word\n",
    "print(\"Hello, World!\") \n",
    "print(\"Python Programming\")\n"
   ]
  },
  {
   "cell_type": "markdown",
   "id": "28b66e32",
   "metadata": {},
   "source": [
    "***Data Type in Python***\n",
    "==>Python has the following data types built-in by default, in these categories:\n",
    "Text Type: str Numeric Types: int, float, complex Sequence Types: list, tuple, range Mapping Type: dict Set Types: set, frozenset Boolean Type: bool Binary Types: bytes, bytearray, memoryview None Type: NoneType"
   ]
  },
  {
   "cell_type": "markdown",
   "id": "9274e80d",
   "metadata": {},
   "source": [
    "#Print the data type of the variable x\n",
    "x = 5\n",
    "print(type(x))\n",
    "\n"
   ]
  },
  {
   "cell_type": "markdown",
   "id": "7776cd25",
   "metadata": {},
   "source": [
    "# Python Numbers\n",
    "=>There are three numeric types in Python: int float complex"
   ]
  },
  {
   "cell_type": "code",
   "execution_count": 3,
   "id": "f00d583e",
   "metadata": {},
   "outputs": [
    {
     "name": "stdout",
     "output_type": "stream",
     "text": [
      "<class 'int'>\n",
      "<class 'float'>\n"
     ]
    }
   ],
   "source": [
    "x = 1    # int\n",
    "y = 2.8  # float\n",
    "z = 1j   # complex\n",
    "\n",
    "print(type(x))\n",
    "print(type(y))"
   ]
  }
 ],
 "metadata": {
  "kernelspec": {
   "display_name": "Python 3 (ipykernel)",
   "language": "python",
   "name": "python3"
  },
  "language_info": {
   "codemirror_mode": {
    "name": "ipython",
    "version": 3
   },
   "file_extension": ".py",
   "mimetype": "text/x-python",
   "name": "python",
   "nbconvert_exporter": "python",
   "pygments_lexer": "ipython3",
   "version": "3.11.1"
  },
  "vscode": {
   "interpreter": {
    "hash": "7efa0102473cc365dc960628bc14c2fa509771872efd5c90b3fcbc26e1dc733a"
   }
  }
 },
 "nbformat": 4,
 "nbformat_minor": 5
}

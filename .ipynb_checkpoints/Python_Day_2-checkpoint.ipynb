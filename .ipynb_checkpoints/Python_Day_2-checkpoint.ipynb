{
 "cells": [
  {
   "cell_type": "markdown",
   "id": "6728ddd4",
   "metadata": {},
   "source": [
    "***Funtion in python***\n",
    "Two type of funtion \n",
    "1)bult funtion like print, list , tupple\n",
    "2)User define funtion"
   ]
  },
  {
   "cell_type": "code",
   "execution_count": 37,
   "id": "dfbeeeb4",
   "metadata": {},
   "outputs": [
    {
     "name": "stdout",
     "output_type": "stream",
     "text": [
      "hello im funtion\n",
      "im outside funtion\n"
     ]
    }
   ],
   "source": [
    "# user define funtion in python \n",
    "def Myfun(): #user define fun\n",
    "    print(\"hello im funtion\")\n",
    "\n",
    "Myfun() #funtion call\n",
    "print(\"im outside funtion\")"
   ]
  },
  {
   "cell_type": "code",
   "execution_count": 40,
   "id": "83047d9e",
   "metadata": {},
   "outputs": [
    {
     "name": "stdout",
     "output_type": "stream",
     "text": [
      "sum= 6\n"
     ]
    }
   ],
   "source": [
    "# user define funtion in python  with argument\n",
    "def add_numbers(num1,num2):\n",
    "    sum=num1+num2;\n",
    "    print(\"sum=\" ,sum)\n",
    "\n",
    "add_numbers(2,4)\n"
   ]
  },
  {
   "cell_type": "code",
   "execution_count": 43,
   "id": "e5d6be79",
   "metadata": {},
   "outputs": [
    {
     "name": "stdout",
     "output_type": "stream",
     "text": [
      "sqaure: 16\n"
     ]
    }
   ],
   "source": [
    "#user define funtion in python with return value\n",
    "def find_sqaure(num):\n",
    "    result=num*num\n",
    "    return result\n",
    "sqaure=find_sqaure(4) #funtion call\n",
    "print(\"sqaure:\",sqaure)"
   ]
  },
  {
   "cell_type": "code",
   "execution_count": 5,
   "id": "244b045c",
   "metadata": {},
   "outputs": [
    {
     "name": "stdout",
     "output_type": "stream",
     "text": [
      "square of  1 is 1 \n",
      "square of  2 is 4 \n",
      "square of  3 is 9 \n"
     ]
    }
   ],
   "source": [
    "# user define funtion calculate the square value\n",
    "def get_square(num):\n",
    "    return num*num\n",
    "\n",
    "for i in [1,2,3]:#using list in for loop\n",
    "    result=get_square(i) # funtion call and return value store in result\n",
    "    print(\"square of \",i,\"is\",result ,end=\" \\n\")"
   ]
  },
  {
   "cell_type": "code",
   "execution_count": 61,
   "id": "f96e501c",
   "metadata": {},
   "outputs": [
    {
     "name": "stdout",
     "output_type": "stream",
     "text": [
      "sum= 3\n",
      "sum= 18\n"
     ]
    }
   ],
   "source": [
    "#program to find sum of multiple numbers\n",
    "def find_sum(*numbers):\n",
    "    result=0;\n",
    "    for num in numbers:\n",
    "        result=result+num\n",
    "    print(\"sum=\",result)\n",
    "find_sum(1,2) #funtion call with 2 argument\n",
    "\n",
    "find_sum(1,2,3,4,8) #funtion call with 5 argument"
   ]
  },
  {
   "cell_type": "code",
   "execution_count": 66,
   "id": "b4aaf038",
   "metadata": {},
   "outputs": [
    {
     "name": "stdout",
     "output_type": "stream",
     "text": [
      "\n",
      "data type of argument: <class 'dict'>\n",
      "firstname is sita\n",
      "lastname is Rai\n",
      "email is sita@gmail.com\n",
      "age is 25\n",
      "\n",
      "data type of argument: <class 'dict'>\n",
      "firstname is Ram\n",
      "lastname is Rai\n",
      "email is ram@gmail.com\n",
      "country is nepal\n",
      "age is 25\n"
     ]
    }
   ],
   "source": [
    "#Arbitrary Keyword argument(**kwargs)\n",
    "def intro(**data):\n",
    "    print(\"\\ndata type of argument:\", type(data))\n",
    "    for key, value in data.items():\n",
    "        #print(key \"is\" value)\n",
    "        print(\"{} is {}\".format(key,value))\n",
    "        \n",
    "\n",
    "intro(firstname=\"sita\", lastname=\"Rai\",email=\"sita@gmail.com\", age=25)\n",
    "intro(firstname=\"Ram\", lastname=\"Rai\",email=\"ram@gmail.com\",country=\"nepal\",age=25)       "
   ]
  },
  {
   "cell_type": "code",
   "execution_count": null,
   "id": "ed4385fb",
   "metadata": {},
   "outputs": [],
   "source": []
  }
 ],
 "metadata": {
  "kernelspec": {
   "display_name": "Python 3 (ipykernel)",
   "language": "python",
   "name": "python3"
  },
  "language_info": {
   "codemirror_mode": {
    "name": "ipython",
    "version": 3
   },
   "file_extension": ".py",
   "mimetype": "text/x-python",
   "name": "python",
   "nbconvert_exporter": "python",
   "pygments_lexer": "ipython3",
   "version": "3.11.1"
  }
 },
 "nbformat": 4,
 "nbformat_minor": 5
}

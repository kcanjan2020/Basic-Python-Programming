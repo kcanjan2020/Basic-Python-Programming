{
 "cells": [
  {
   "cell_type": "markdown",
   "id": "6728ddd4",
   "metadata": {},
   "source": [
    "#                ==>Python Day_2<==\n"
   ]
  },
  {
   "cell_type": "markdown",
   "id": "5f58a612",
   "metadata": {},
   "source": [
    "#              ==>Funtion in python<==\n",
    "               -->Two type of funtion \n",
    "                   1)Built funtion like print, list , tupple\n",
    "                   2)User Define funtion"
   ]
  },
  {
   "cell_type": "code",
   "execution_count": 12,
   "id": "dfbeeeb4",
   "metadata": {},
   "outputs": [
    {
     "name": "stdout",
     "output_type": "stream",
     "text": [
      "Hello, Im Function\n",
      "Im From Outside of Funtion\n"
     ]
    }
   ],
   "source": [
    "# user define funtion in python \n",
    "def Myfun(): #user define fun\n",
    "    print(\"Hello, Im Function\")\n",
    "#funtion call\n",
    "Myfun() \n",
    "print(\"Im From Outside of Funtion\")"
   ]
  },
  {
   "cell_type": "code",
   "execution_count": 13,
   "id": "83047d9e",
   "metadata": {},
   "outputs": [
    {
     "name": "stdout",
     "output_type": "stream",
     "text": [
      "sum= 6\n"
     ]
    }
   ],
   "source": [
    "# user define funtion in python  with argument\n",
    "def add_numbers(num1,num2):\n",
    "    sum=num1+num2;\n",
    "    print(\"sum=\" ,sum)\n",
    "add_numbers(2,4)\n"
   ]
  },
  {
   "cell_type": "code",
   "execution_count": 14,
   "id": "e5d6be79",
   "metadata": {},
   "outputs": [
    {
     "name": "stdout",
     "output_type": "stream",
     "text": [
      "Sqaure: 16\n"
     ]
    }
   ],
   "source": [
    "#User define funtion in python with return Value\n",
    "#Fuction Defination\n",
    "def find_sqaure(num):\n",
    "    result=num*num\n",
    "    return result\n",
    "#Function Call\n",
    "sqaure=find_sqaure(4)\n",
    "print(\"Sqaure:\",sqaure)"
   ]
  },
  {
   "cell_type": "code",
   "execution_count": 15,
   "id": "244b045c",
   "metadata": {},
   "outputs": [
    {
     "name": "stdout",
     "output_type": "stream",
     "text": [
      "Square of  1 is 1 \n",
      "Square of  2 is 4 \n",
      "Square of  3 is 9 \n"
     ]
    }
   ],
   "source": [
    "# User define funtion calculate the square value\n",
    "def get_square(num):\n",
    "    return num*num\n",
    "#Using list in for loop\n",
    "for i in [1,2,3]:\n",
    "    result=get_square(i) # funtion call and return value store in result\n",
    "    print(\"Square of \",i,\"is\",result ,end=\" \\n\")"
   ]
  },
  {
   "cell_type": "markdown",
   "id": "8beeb311",
   "metadata": {},
   "source": [
    "#            ==>Python *args ?<==\n",
    "     -->The special syntax *args in function definitions in python is used to pass a variable number of arguments to a function. \n",
    "     -->It is used to pass a non-key worded, variable-length argument list. "
   ]
  },
  {
   "cell_type": "code",
   "execution_count": 16,
   "id": "f96e501c",
   "metadata": {},
   "outputs": [
    {
     "name": "stdout",
     "output_type": "stream",
     "text": [
      "um= 3\n",
      "um= 18\n"
     ]
    }
   ],
   "source": [
    "#program to find sum of multiple numbers\n",
    "def find_sum(*numbers):\n",
    "    result=0;\n",
    "    for num in numbers:\n",
    "        result=result+num\n",
    "    print(\"um=\",result)\n",
    "find_sum(1,2) #funtion call with 2 argument\n",
    "find_sum(1,2,3,4,8) #funtion call with 5 argument"
   ]
  },
  {
   "cell_type": "code",
   "execution_count": 17,
   "id": "488cf0ab",
   "metadata": {},
   "outputs": [
    {
     "name": "stdout",
     "output_type": "stream",
     "text": [
      "Sum: 8\n",
      "Sum: 22\n",
      "Sum: 17\n"
     ]
    }
   ],
   "source": [
    "#Example: Using *args to pass the variable length arguments to the function\n",
    "def add(*num):\n",
    "    sum = 0\n",
    "    for n in num:\n",
    "        sum = sum + n\n",
    "    print(\"Sum:\",sum)\n",
    "add(3,5)  #funtion call with 2 argument\n",
    "add(4,5,6,7) #funtion call with 3 argument\n",
    "add(1,2,3,5,6) #funtion call with 5SSSS argument\n"
   ]
  },
  {
   "cell_type": "markdown",
   "id": "390378dc",
   "metadata": {},
   "source": [
    "#          ==>Python **kwargs<==   \n",
    "    -->The special syntax **kwargs in function definitions in python is used to pass a keyworded, variable-length argument list.\n",
    "    -->We use the name kwargs with the double star. The reason is that the double star allows us to pass through keyword arguments (and any number of them)."
   ]
  },
  {
   "cell_type": "markdown",
   "id": "983eb9a6",
   "metadata": {},
   "source": [
    "# Example: Using **kwargs to pass the variable keyword arguments to the function \n"
   ]
  },
  {
   "cell_type": "code",
   "execution_count": 18,
   "id": "ded33ac0",
   "metadata": {},
   "outputs": [
    {
     "name": "stdout",
     "output_type": "stream",
     "text": [
      "\n",
      "Data type of argument: <class 'dict'>\n",
      "Firstname is Sita\n",
      "Lastname is Sharma\n",
      "Age is 22\n",
      "Phone is 1234567890\n",
      "\n",
      "Data type of argument: <class 'dict'>\n",
      "Firstname is John\n",
      "Lastname is Wood\n",
      "Email is johnwood@nomail.com\n",
      "Country is Wakanda\n",
      "Age is 25\n",
      "Phone is 9876543210\n"
     ]
    }
   ],
   "source": [
    "def intro(**data):\n",
    "    print(\"\\nData type of argument:\",type(data))\n",
    "\n",
    "    for key, value in data.items():\n",
    "        print(\"{} is {}\".format(key,value))\n",
    "\n",
    "intro(Firstname=\"Sita\", Lastname=\"Sharma\", Age=22, Phone=1234567890)\n",
    "intro(Firstname=\"John\", Lastname=\"Wood\", Email=\"johnwood@nomail.com\", Country=\"Wakanda\", Age=25, Phone=9876543210)"
   ]
  },
  {
   "cell_type": "code",
   "execution_count": 19,
   "id": "b4aaf038",
   "metadata": {},
   "outputs": [
    {
     "name": "stdout",
     "output_type": "stream",
     "text": [
      "\n",
      "data type of argument: <class 'dict'>\n",
      "firstname is sita\n",
      "lastname is Rai\n",
      "email is sita@gmail.com\n",
      "age is 25\n",
      "\n",
      "data type of argument: <class 'dict'>\n",
      "firstname is Ram\n",
      "lastname is Rai\n",
      "email is ram@gmail.com\n",
      "country is nepal\n",
      "age is 25\n"
     ]
    }
   ],
   "source": [
    "#Arbitrary Keyword argument(**kwargs)\n",
    "def intro(**data):\n",
    "    print(\"\\ndata type of argument:\", type(data))\n",
    "    for key, value in data.items():\n",
    "        #print(key \"is\" value)\n",
    "        print(\"{} is {}\".format(key,value))\n",
    "        \n",
    "\n",
    "intro(firstname=\"sita\", lastname=\"Rai\",email=\"sita@gmail.com\", age=25)\n",
    "intro(firstname=\"Ram\", lastname=\"Rai\",email=\"ram@gmail.com\",country=\"nepal\",age=25)       "
   ]
  }
 ],
 "metadata": {
  "kernelspec": {
   "display_name": "Python 3 (ipykernel)",
   "language": "python",
   "name": "python3"
  },
  "language_info": {
   "codemirror_mode": {
    "name": "ipython",
    "version": 3
   },
   "file_extension": ".py",
   "mimetype": "text/x-python",
   "name": "python",
   "nbconvert_exporter": "python",
   "pygments_lexer": "ipython3",
   "version": "3.11.1"
  }
 },
 "nbformat": 4,
 "nbformat_minor": 5
}

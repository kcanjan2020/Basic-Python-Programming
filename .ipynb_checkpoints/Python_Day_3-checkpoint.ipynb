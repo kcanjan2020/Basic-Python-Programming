{
 "cells": [
  {
   "cell_type": "markdown",
   "id": "ddab55d6",
   "metadata": {},
   "source": [
    " #                              ==>Python Day_3<==\n"
   ]
  },
  {
   "cell_type": "markdown",
   "id": "ccaf11fc",
   "metadata": {},
   "source": [
    "#                        ==>Python Recursion<=="
   ]
  },
  {
   "cell_type": "code",
   "execution_count": 9,
   "id": "b75d4bd6",
   "metadata": {},
   "outputs": [
    {
     "name": "stdout",
     "output_type": "stream",
     "text": [
      "The factorial of 3 is 6\n"
     ]
    }
   ],
   "source": [
    "def factorial(x):\n",
    "#*****This is a recursive function to find the factorial of an integer****\n",
    "\n",
    "    if x == 1:\n",
    "        return 1\n",
    "    else:\n",
    "        return (x * factorial(x-1))\n",
    "\n",
    "\n",
    "num = 3\n",
    "print(\"The factorial of\", num, \"is\", factorial(num))\n"
   ]
  },
  {
   "cell_type": "markdown",
   "id": "b5640a6d",
   "metadata": {},
   "source": [
    "#                        ==> Type conversion in Python<==\n",
    "            -->implicit Type Conversion\n",
    "            -->Explicit Types Conversion"
   ]
  },
  {
   "cell_type": "markdown",
   "id": "da809024",
   "metadata": {},
   "source": [
    "#      ==>implicit Type Conversion<=="
   ]
  },
  {
   "cell_type": "code",
   "execution_count": 2,
   "id": "6ef303bd",
   "metadata": {},
   "outputs": [
    {
     "name": "stdout",
     "output_type": "stream",
     "text": [
      "x is of Type: <class 'int'>\n",
      "Y is of Type: <class 'float'>\n",
      "Sum: 20.6\n",
      "Z is of type: <class 'float'>\n"
     ]
    }
   ],
   "source": [
    "x=10\n",
    "print(\"x is of Type:\",type(x))\n",
    "y=10.6\n",
    "print(\"Y is of Type:\",type(y))\n",
    "z=x+y\n",
    "print(\"Sum:\",z)\n",
    "print(\"Z is of type:\",type(z))"
   ]
  },
  {
   "cell_type": "code",
   "execution_count": 3,
   "id": "4213fcff",
   "metadata": {},
   "outputs": [
    {
     "name": "stdout",
     "output_type": "stream",
     "text": [
      "x is of Type: <class 'int'>\n",
      "Y is of Type: <class 'float'>\n",
      "Sum: 20\n",
      "Z is of type: <class 'int'>\n"
     ]
    }
   ],
   "source": [
    "x=10\n",
    "print(\"x is of Type:\",type(x))\n",
    "y=10.6\n",
    "print(\"Y is of Type:\",type(y))\n",
    "z=int(x+y)\n",
    "print(\"Sum:\",z)\n",
    "print(\"Z is of type:\",type(z))"
   ]
  },
  {
   "cell_type": "markdown",
   "id": "da1d4c94",
   "metadata": {},
   "source": [
    "#               ==>Explicit Type Conversion in Python<=="
   ]
  },
  {
   "cell_type": "code",
   "execution_count": 6,
   "id": "793b3ce1",
   "metadata": {},
   "outputs": [
    {
     "name": "stdout",
     "output_type": "stream",
     "text": [
      "After Converting to Integer base 2:34\n",
      "After Converting to float:100010.0\n"
     ]
    }
   ],
   "source": [
    "s=\"100010\"  #string\n",
    "#printing string converting to int base 2\n",
    "c=int(s,2)\n",
    "print(\"After Converting to Integer base 2:\",end=\"\")\n",
    "print(c)\n",
    "#printing string Converting to Float\n",
    "e=float(s)\n",
    "print(\"After Converting to float:\",end=\"\")\n",
    "print(e)"
   ]
  },
  {
   "cell_type": "code",
   "execution_count": 11,
   "id": "2f305d3b",
   "metadata": {},
   "outputs": [
    {
     "name": "stdout",
     "output_type": "stream",
     "text": [
      "After Converting to Integer base 2: OCtal==>32776\n"
     ]
    }
   ],
   "source": [
    "##printing string converting to int base 8\n",
    "c=int(s,8)\n",
    "print(\"After Converting to Integer base 2:\",end=\" OCtal==>\")\n",
    "print(c)"
   ]
  },
  {
   "cell_type": "code",
   "execution_count": 12,
   "id": "6c5fcd88",
   "metadata": {},
   "outputs": [
    {
     "name": "stdout",
     "output_type": "stream",
     "text": [
      "After Converting to Integer base 2:Hexadecimal==>1048592\n"
     ]
    }
   ],
   "source": [
    "#printing string converting to int base 16\n",
    "c=int(s,16)\n",
    "print(\"After Converting to Integer base 2:\",end=\"Hexadecimal==>\")\n",
    "print(c)"
   ]
  },
  {
   "cell_type": "markdown",
   "id": "8682f272",
   "metadata": {},
   "source": [
    "#    ==> LIst, Tuple, Set and Dictionary in Python<=="
   ]
  },
  {
   "cell_type": "code",
   "execution_count": 22,
   "id": "9eaa8c4e",
   "metadata": {},
   "outputs": [
    {
     "name": "stdout",
     "output_type": "stream",
     "text": [
      "Adding 5 and 10 in List: [5, 10, 15, 20, 25, 30]\n",
      "Popped one elements from list: [5, 10, 15, 20, 25]\n",
      "\n"
     ]
    }
   ],
   "source": [
    "#List\n",
    "l=[]\n",
    "#Adding Element into List\n",
    "l.append(5)\n",
    "l.append(10)\n",
    "l.append(15)\n",
    "l.append(20)\n",
    "l.append(25)\n",
    "l.append(30)\n",
    "print(\"Adding 5 and 10 in List:\",l)\n",
    "#Popping Elements from List\n",
    "l.pop()\n",
    "print(\"Popped one elements from list:\",l)\n",
    "print()\n"
   ]
  },
  {
   "cell_type": "code",
   "execution_count": 37,
   "id": "e790e9d0",
   "metadata": {},
   "outputs": [
    {
     "name": "stdout",
     "output_type": "stream",
     "text": [
      "Adding 5 and 10 into set {'Orange', 5, 10, 12, 15, 20, 25, 'Apple', 30}\n",
      "Removing 5 from set: {'Orange', 5, 12, 15, 20, 25, 'Apple', 30}\n",
      "\n"
     ]
    }
   ],
   "source": [
    "#set\n",
    "s=set()\n",
    "#Adding Elements into set\n",
    "s.add(5)\n",
    "s.add(10)\n",
    "s.add(15)\n",
    "s.add(20)\n",
    "s.add(25)\n",
    "s.add(30)\n",
    "s.add(12)\n",
    "s.add(\"Orange\")\n",
    "s.add(\"Apple\")\n",
    "print(\"Adding 5 and 10 into set\",s)\n",
    "#Removing Element From Set\n",
    "s.remove(10)\n",
    "print(\"Removing 5 from set:\",s)\n",
    "print()"
   ]
  },
  {
   "cell_type": "code",
   "execution_count": 36,
   "id": "1adfeaa3",
   "metadata": {},
   "outputs": [
    {
     "data": {
      "text/plain": [
       "set"
      ]
     },
     "execution_count": 36,
     "metadata": {},
     "output_type": "execute_result"
    }
   ],
   "source": [
    "type(s)"
   ]
  },
  {
   "cell_type": "code",
   "execution_count": 41,
   "id": "884f5d59",
   "metadata": {},
   "outputs": [
    {
     "name": "stdout",
     "output_type": "stream",
     "text": [
      "Tuple (5, 10, 15, 20, 25)\n",
      "Dictionary: {5: 'Five', 10: 'Ten'}\n",
      "Dictionary: {5: 'Five'}\n"
     ]
    }
   ],
   "source": [
    "#Tuple\n",
    "t=tuple(l)\n",
    "print(\"Tuple\",t)\n",
    "# Tuples are Immutable\n"
   ]
  },
  {
   "cell_type": "code",
   "execution_count": 45,
   "id": "400abf64",
   "metadata": {},
   "outputs": [
    {
     "data": {
      "text/plain": [
       "(5, 10, 15, 20, 25)"
      ]
     },
     "execution_count": 45,
     "metadata": {},
     "output_type": "execute_result"
    }
   ],
   "source": [
    "t"
   ]
  },
  {
   "cell_type": "code",
   "execution_count": 47,
   "id": "6365f3a9",
   "metadata": {},
   "outputs": [
    {
     "ename": "AttributeError",
     "evalue": "'tuple' object has no attribute 'append'",
     "output_type": "error",
     "traceback": [
      "\u001b[1;31m---------------------------------------------------------------------------\u001b[0m",
      "\u001b[1;31mAttributeError\u001b[0m                            Traceback (most recent call last)",
      "Cell \u001b[1;32mIn[47], line 1\u001b[0m\n\u001b[1;32m----> 1\u001b[0m \u001b[43mt\u001b[49m\u001b[38;5;241;43m.\u001b[39;49m\u001b[43mappend\u001b[49m(\u001b[38;5;241m35\u001b[39m)\n",
      "\u001b[1;31mAttributeError\u001b[0m: 'tuple' object has no attribute 'append'"
     ]
    }
   ],
   "source": [
    "t.append(35) #==># Tuples are Immutable ==>Tuple can no be Change"
   ]
  },
  {
   "cell_type": "code",
   "execution_count": 48,
   "id": "43359647",
   "metadata": {},
   "outputs": [
    {
     "ename": "AttributeError",
     "evalue": "'tuple' object has no attribute 'add'",
     "output_type": "error",
     "traceback": [
      "\u001b[1;31m---------------------------------------------------------------------------\u001b[0m",
      "\u001b[1;31mAttributeError\u001b[0m                            Traceback (most recent call last)",
      "Cell \u001b[1;32mIn[48], line 1\u001b[0m\n\u001b[1;32m----> 1\u001b[0m \u001b[43mt\u001b[49m\u001b[38;5;241;43m.\u001b[39;49m\u001b[43madd\u001b[49m(\u001b[38;5;241m43857\u001b[39m)\n",
      "\u001b[1;31mAttributeError\u001b[0m: 'tuple' object has no attribute 'add'"
     ]
    }
   ],
   "source": [
    "t.add(43857) #==># Tuples are Immutable ==>Tuple can no be Change\n"
   ]
  },
  {
   "cell_type": "code",
   "execution_count": 51,
   "id": "b4bc1c76",
   "metadata": {},
   "outputs": [
    {
     "name": "stdout",
     "output_type": "stream",
     "text": [
      "Dictionary: {5: 'Five', 10: 'Ten1', 11: 'Ten'}\n",
      "Dictionary: {5: 'Five', 11: 'Ten'}\n"
     ]
    }
   ],
   "source": [
    "#Dictionary\n",
    "d={}\n",
    "# Adding the key value pair\n",
    "d[5]=\"Five\"\n",
    "d[10]=\"Ten\"\n",
    "d[10]=\"Ten1\"\n",
    "d[11]=\"Ten\"\n",
    "print(\"Dictionary:\",d)\n",
    "#Removing key-value pair\n",
    "del d[10]\n",
    "print(\"Dictionary:\",d)\n",
    "#--> Value can be repeated but key can not be repeated in Python Dictionary"
   ]
  },
  {
   "cell_type": "markdown",
   "id": "1df851f3",
   "metadata": {},
   "source": [
    "#       ==> List and Dictionary Comprehension<==\n",
    "            --> Powerful substitute to for loop\n",
    "            -->Faster than traditional for loops"
   ]
  },
  {
   "cell_type": "code",
   "execution_count": 58,
   "id": "6734e87b",
   "metadata": {},
   "outputs": [
    {
     "name": "stdout",
     "output_type": "stream",
     "text": [
      "{1: 1, 2: 4, 3: 9, 4: 16, 5: 25}\n"
     ]
    }
   ],
   "source": [
    "#Creating using list comprehension\n",
    "myDict={x:x**2 for x in[1,2,3,4,5]}\n",
    "print(myDict)"
   ]
  },
  {
   "cell_type": "code",
   "execution_count": 59,
   "id": "a47365f8",
   "metadata": {
    "scrolled": true
   },
   "outputs": [
    {
     "name": "stdout",
     "output_type": "stream",
     "text": [
      "{0: 0, 2: 8, 4: 64, 6: 216, 8: 512}\n"
     ]
    }
   ],
   "source": [
    "#comprehension using if\n",
    "newdict={x:x**3 for x in range(10) if x**3%4==0}\n",
    "print(newdict)"
   ]
  },
  {
   "cell_type": "code",
   "execution_count": 60,
   "id": "1e81c315",
   "metadata": {},
   "outputs": [
    {
     "name": "stdout",
     "output_type": "stream",
     "text": [
      "{0: 0, 4: 64, 8: 512}\n"
     ]
    }
   ],
   "source": [
    "#comprehension using if\n",
    "newdict={x:x**3 for x in range(10) if x%4==0}\n",
    "print(newdict)"
   ]
  },
  {
   "cell_type": "code",
   "execution_count": 57,
   "id": "7a81f4be",
   "metadata": {},
   "outputs": [
    {
     "name": "stdout",
     "output_type": "stream",
     "text": [
      "{1: 1}\n",
      "{1: 1, 2: 4}\n",
      "{1: 1, 2: 4, 3: 9}\n",
      "{1: 1, 2: 4, 3: 9, 4: 16}\n",
      "{1: 1, 2: 4, 3: 9, 4: 16, 5: 25}\n",
      "{1: 1, 2: 4, 3: 9, 4: 16, 5: 25, 6: 36}\n",
      "{1: 1, 2: 4, 3: 9, 4: 16, 5: 25, 6: 36, 7: 49}\n",
      "{1: 1, 2: 4, 3: 9, 4: 16, 5: 25, 6: 36, 7: 49, 8: 64}\n",
      "{1: 1, 2: 4, 3: 9, 4: 16, 5: 25, 6: 36, 7: 49, 8: 64, 9: 81}\n",
      "{1: 1, 2: 4, 3: 9, 4: 16, 5: 25, 6: 36, 7: 49, 8: 64, 9: 81, 10: 100}\n"
     ]
    }
   ],
   "source": [
    "square_dict=dict()\n",
    "for num in range(1,11):\n",
    "    square_dict[num]=num*num\n",
    "    print(square_dict)"
   ]
  },
  {
   "cell_type": "code",
   "execution_count": 56,
   "id": "48c4a1ad",
   "metadata": {},
   "outputs": [
    {
     "name": "stdout",
     "output_type": "stream",
     "text": [
      "{1: 1, 2: 4, 3: 9, 4: 16, 5: 25, 6: 36, 7: 49, 8: 64, 9: 81, 10: 100}\n"
     ]
    }
   ],
   "source": [
    "square_dict=dict()\n",
    "for num in range(1,11):\n",
    "    square_dict[num]=num*num\n",
    "print(square_dict)"
   ]
  },
  {
   "cell_type": "code",
   "execution_count": 53,
   "id": "2007d939",
   "metadata": {},
   "outputs": [
    {
     "name": "stdout",
     "output_type": "stream",
     "text": [
      "{1: 1, 2: 4, 3: 9, 4: 16, 5: 25, 6: 36, 7: 49, 8: 64, 9: 81, 10: 100}\n"
     ]
    }
   ],
   "source": [
    "#same As\n",
    "square_dict={num:num*num for num in range(1,11)}\n",
    "print(square_dict)"
   ]
  },
  {
   "cell_type": "code",
   "execution_count": 62,
   "id": "86e5dd9b",
   "metadata": {},
   "outputs": [
    {
     "name": "stdout",
     "output_type": "stream",
     "text": [
      "{'Milk': 0.7752, 'Coffee': 1.9, 'Bread': 1.9}\n"
     ]
    }
   ],
   "source": [
    "# Item price in dollars\n",
    "old_price={'Milk':1.02,'Coffee':2.5,'Bread':2.5}\n",
    "dollar_to_pound=0.76\n",
    "new_price={item:value*dollar_to_pound for(item,value) in old_price.items()}\n",
    "print(new_price)"
   ]
  },
  {
   "cell_type": "code",
   "execution_count": 63,
   "id": "040a8964",
   "metadata": {},
   "outputs": [
    {
     "name": "stdout",
     "output_type": "stream",
     "text": [
      "{'Jack': 38, 'Michael': 48}\n"
     ]
    }
   ],
   "source": [
    "##\n",
    "original_dict={'Jack':38,'Michael':48,'Guido':57,'John':33}\n",
    "even_dict={k:v for (k,v) in original_dict.items()if v%2==0}\n",
    "print(even_dict)"
   ]
  },
  {
   "cell_type": "code",
   "execution_count": 69,
   "id": "120f8db3",
   "metadata": {},
   "outputs": [
    {
     "name": "stdout",
     "output_type": "stream",
     "text": [
      "{'John': 33}\n"
     ]
    }
   ],
   "source": [
    "##\n",
    "original_dict={'Jack':38,'Michael':48,'Guido':57,'John':33}\n",
    "new_dict={i:v for (i,v) in original_dict.items() if v%2!=0 if v<40}\n",
    "print(new_dict)"
   ]
  },
  {
   "cell_type": "markdown",
   "id": "edc11d35",
   "metadata": {},
   "source": [
    "#      ==>Create a list of Dictionary<=="
   ]
  },
  {
   "cell_type": "code",
   "execution_count": 86,
   "id": "0ff80ce3",
   "metadata": {},
   "outputs": [
    {
     "name": "stdout",
     "output_type": "stream",
     "text": [
      "python \n",
      "R \n",
      "Python \n",
      "Java Script \n",
      "HTML \n",
      "C++ \n",
      "Python \n",
      "Java \n",
      "Kotlin\n",
      "Machine Learning \n",
      "React Native \n",
      "Web Development \n",
      "Web Developent \n",
      "Web Development \n",
      "Game Devlopment \n",
      "Game Development \n",
      "App Development \n",
      "App Development\n"
     ]
    }
   ],
   "source": [
    "languages=[\n",
    "    {\n",
    "        \"python\":\"Machine Learning\",\n",
    "        \"R\":\"React Native\"\n",
    "    },\n",
    "    {\n",
    "        \"Python\":\"Web Development\",\n",
    "        \"Java Script\":\"Web Developent\",\n",
    "        \"HTML\":\"Web Development\"\n",
    "    },\n",
    "    {\n",
    "        \"C++\":\"Game Devlopment\",\n",
    "        \"Python\":\"Game Development\"\n",
    "    },\n",
    "    {\n",
    "        \"Java\":\"App Development\",\n",
    "        \"Kotlin\":\"App Development\"\n",
    "    }\n",
    "]\n",
    "\n",
    "# Here we are printing the keys of the dictionary\n",
    "# by using kist comprehension and each key will be\n",
    "#printed in a a new line due to the presence of \"sep=\"\"\\n\"\"\n",
    "# it will add a new line\n",
    "print(*[key for i in languages for key in i.keys()],sep=\" \\n\")\n",
    "print(*[value for i in languages for value in i.values()],sep=\" \\n\")"
   ]
  },
  {
   "cell_type": "code",
   "execution_count": 83,
   "id": "bd1b0b5e",
   "metadata": {},
   "outputs": [
    {
     "name": "stdout",
     "output_type": "stream",
     "text": [
      "python R Python Java Script HTML C++ Python Java Kotlin\n"
     ]
    }
   ],
   "source": [
    "print(*[key for i in languages for key in i.keys()],sep=\" \")"
   ]
  },
  {
   "cell_type": "code",
   "execution_count": 84,
   "id": "fe8057fe",
   "metadata": {},
   "outputs": [
    {
     "name": "stdout",
     "output_type": "stream",
     "text": [
      "python R Python Java Script HTML C++ Python Java Kotlin\n"
     ]
    }
   ],
   "source": [
    "print(*[key for i in languages for key in i.keys()])"
   ]
  },
  {
   "cell_type": "code",
   "execution_count": 79,
   "id": "b5c0c5da",
   "metadata": {},
   "outputs": [
    {
     "name": "stdout",
     "output_type": "stream",
     "text": [
      "['python', 'R', 'Python', 'Java Script', 'HTML', 'C++', 'Python', 'Java', 'Kotlin']\n"
     ]
    }
   ],
   "source": [
    "print([key for i in languages for key in i.keys()],sep=\" \\n\")"
   ]
  },
  {
   "cell_type": "code",
   "execution_count": null,
   "id": "b8fbf871",
   "metadata": {},
   "outputs": [],
   "source": []
  }
 ],
 "metadata": {
  "kernelspec": {
   "display_name": "Python 3 (ipykernel)",
   "language": "python",
   "name": "python3"
  },
  "language_info": {
   "codemirror_mode": {
    "name": "ipython",
    "version": 3
   },
   "file_extension": ".py",
   "mimetype": "text/x-python",
   "name": "python",
   "nbconvert_exporter": "python",
   "pygments_lexer": "ipython3",
   "version": "3.11.1"
  }
 },
 "nbformat": 4,
 "nbformat_minor": 5
}

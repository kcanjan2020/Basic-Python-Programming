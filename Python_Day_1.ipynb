{
 "cells": [
  {
   "cell_type": "markdown",
   "id": "41d83829",
   "metadata": {},
   "source": [
    " #                              ==>Python Day_1<=="
   ]
  },
  {
   "cell_type": "markdown",
   "id": "1e5a52a0",
   "metadata": {},
   "source": [
    "# What is Python?\n",
    "==>Python is a very popular general-purpose interpreted, interactive, object-oriented, and high-level programming language.\n",
    "==>Python supports multiple programming paradigms, including \n",
    "        -->Procedural programming language\n",
    "        -->Object Oriented programming language and \n",
    "        -->Functional programming language.\n",
    "        -->Python design philosophy emphasizes code readability with the use of significant indentation."
   ]
  },
  {
   "cell_type": "markdown",
   "id": "5246963e",
   "metadata": {},
   "source": [
    "#         ==> First Program in Python and Basic Syntax in Python <=="
   ]
  },
  {
   "cell_type": "code",
   "execution_count": 45,
   "id": "a55e787e",
   "metadata": {},
   "outputs": [
    {
     "name": "stdout",
     "output_type": "stream",
     "text": [
      "Hello, World!\n",
      "I am From The Federal Democratic Republic of Nepal\n"
     ]
    }
   ],
   "source": [
    "#simple program: print hello word\n",
    "print(\"Hello, World!\") \n",
    "print(\"I am From The Federal Democratic Republic of Nepal\")\n"
   ]
  },
  {
   "cell_type": "markdown",
   "id": "0f8f08f0",
   "metadata": {},
   "source": [
    "#                        ==>Comments in Python  <==\n",
    "      1.Single line comments--> Single Line Comments starts with a #, and Python will ignore them.\n",
    "           *eg. #----comments------\n",
    "      2.Multi Line Comments--> For Multi Line Comments,you can add triple quotes in your code, and place your comment inside it.\n",
    "          *eg. '''----comments----'''\n",
    "\n"
   ]
  },
  {
   "cell_type": "code",
   "execution_count": 2,
   "id": "95cf3273",
   "metadata": {},
   "outputs": [
    {
     "name": "stdout",
     "output_type": "stream",
     "text": [
      "Hello, Python Programmer\n",
      "I am From The Federal Democratic Republic of Nepal\n"
     ]
    }
   ],
   "source": [
    "#First Python Program--> Single line comments\n",
    "print(\"Hello, Python Programmer\")\n",
    "#Multi Line Comments\n",
    "'''==>Python supports multiple programming paradigms, including \n",
    "        -->Procedural programming language\n",
    "        -->Object Oriented programming language and \n",
    "        -->Functional programming language.\n",
    "        -->Python design philosophy emphasizes code readability with the use of significant indentation.'''\n",
    "print(\"I am From The Federal Democratic Republic of Nepal\")"
   ]
  },
  {
   "cell_type": "markdown",
   "id": "28b66e32",
   "metadata": {},
   "source": [
    "#                  ==>  Data Type in Python<==\n",
    "==>Variables do not need to be declared with any particular type in python.\n",
    "==>Python has the following data types built-in by default, in these categories:\n",
    "      *Text Type: str \n",
    "      *Numeric Types: int, float, complex\n",
    "      *Sequence Types: list, tuple, range\n",
    "      *Mapping Type: dict \n",
    "      *Set Types: set, frozenset \n",
    "      *Boolean Type: bool \n",
    "      *Binary Types: bytes, bytearray, memoryview \n",
    "      *None Type: NoneType"
   ]
  },
  {
   "cell_type": "code",
   "execution_count": 44,
   "id": "d29d0dda",
   "metadata": {},
   "outputs": [
    {
     "name": "stdout",
     "output_type": "stream",
     "text": [
      "<class 'int'>\n",
      "<class 'str'>\n",
      "10\n",
      "10\n",
      "10.0\n",
      "<class 'str'>\n",
      "<class 'int'>\n",
      "<class 'float'>\n"
     ]
    }
   ],
   "source": [
    "#Print the data type of the variable x and y\n",
    "x = 5\n",
    "y=\"Nepal\"\n",
    "print(type(x))\n",
    "print(type(y))\n",
    "\n",
    "#For Type Casting \n",
    "p= str(10)    #==> x will be '10'\n",
    "q= int(10)    #==>y will be 10\n",
    "r= float(10)  #==> z will be 10.0\n",
    "print(p)\n",
    "print(q)\n",
    "print(r)\n",
    "print(type(p))\n",
    "print(type(q))\n",
    "print(type(r))"
   ]
  },
  {
   "cell_type": "code",
   "execution_count": 29,
   "id": "603787d9",
   "metadata": {},
   "outputs": [
    {
     "name": "stdout",
     "output_type": "stream",
     "text": [
      "am \n",
      "The Federal\n"
     ]
    }
   ],
   "source": [
    "#String Slicing in python\n",
    "t=\"I am From The Federal Democratic Republic of Nepal\"\n",
    "print(t[2:5])\n",
    "print(t[10:21])"
   ]
  },
  {
   "cell_type": "markdown",
   "id": "58dc5e5e",
   "metadata": {},
   "source": [
    "#       ==>Assigning Multiple values to Multiple Variable<=="
   ]
  },
  {
   "cell_type": "code",
   "execution_count": 14,
   "id": "9657c4a4",
   "metadata": {},
   "outputs": [
    {
     "name": "stdout",
     "output_type": "stream",
     "text": [
      "15\n",
      "25\n",
      "35\n"
     ]
    }
   ],
   "source": [
    "x,y,z=15,25,35\n",
    "print(x)\n",
    "print(y)\n",
    "print(z)"
   ]
  },
  {
   "cell_type": "code",
   "execution_count": 15,
   "id": "7ce4c42f",
   "metadata": {},
   "outputs": [
    {
     "name": "stdout",
     "output_type": "stream",
     "text": [
      "25\n",
      "50\n",
      "Hello! Nepal\n"
     ]
    }
   ],
   "source": [
    "x,y,z=25,50,\"Hello! Nepal\"\n",
    "print(x)\n",
    "print(y)\n",
    "print(z)"
   ]
  },
  {
   "cell_type": "code",
   "execution_count": 21,
   "id": "28594865",
   "metadata": {
    "scrolled": true
   },
   "outputs": [
    {
     "name": "stdout",
     "output_type": "stream",
     "text": [
      "Computer Engineering!\n",
      "IT Engineering!\n",
      "CVIL Engineering\n"
     ]
    }
   ],
   "source": [
    "x,y,z=\"Computer Engineering!\",\"IT Engineering!\",\"CVIL Engineering\"\n",
    "print(x)\n",
    "print(y)\n",
    "print(z)"
   ]
  },
  {
   "cell_type": "markdown",
   "id": "6f46bf97",
   "metadata": {},
   "source": [
    "#          ==>Loop in Python <==>\n",
    "                -->for loop\n",
    "                --while loop       "
   ]
  },
  {
   "cell_type": "code",
   "execution_count": 40,
   "id": "e5caa066",
   "metadata": {
    "scrolled": true
   },
   "outputs": [
    {
     "name": "stdout",
     "output_type": "stream",
     "text": [
      "Hello I am From While Loop\n",
      "Hello I am From While Loop\n",
      "Hello I am From While Loop\n",
      "Hello I am From While Loop\n",
      "Hello I am From While Loop\n",
      "Hello I am From While Loop\n",
      "Hello I am From While Loop\n",
      "Hello I am From While Loop\n",
      "Hello I am From While Loop\n",
      "Hello I am From While Loop\n",
      "I am From The Federal Democratic Republic of Nepal\n",
      "I am From The Federal Democratic Republic of Nepal\n",
      "I am From The Federal Democratic Republic of Nepal\n",
      "I am From The Federal Democratic Republic of Nepal\n",
      "I am From The Federal Democratic Republic of Nepal\n",
      "I am From The Federal Democratic Republic of Nepal\n",
      "I am From The Federal Democratic Republic of Nepal\n",
      "I am From The Federal Democratic Republic of Nepal\n",
      "I am From The Federal Democratic Republic of Nepal\n",
      "I am From The Federal Democratic Republic of Nepal\n"
     ]
    }
   ],
   "source": [
    "#while Loop\n",
    "#increasing loop\n",
    "n=0\n",
    "while(n<10):\n",
    "    n+=1\n",
    "    print(\"Hello I am From While Loop\")\n",
    "#decreasing lopp\n",
    "n=10\n",
    "while(n>0):\n",
    "    n-=1\n",
    "    print(\"I am From The Federal Democratic Republic of Nepal\")\n",
    "   \n",
    "\n"
   ]
  },
  {
   "cell_type": "code",
   "execution_count": 43,
   "id": "a8652f90",
   "metadata": {},
   "outputs": [
    {
     "name": "stdout",
     "output_type": "stream",
     "text": [
      "I am From The Federal Democratic Republic of Nepal\n",
      "I am From The Federal Democratic Republic of Nepal\n",
      "I am From The Federal Democratic Republic of Nepal\n",
      "I am From The Federal Democratic Republic of Nepal\n",
      "I am From The Federal Democratic Republic of Nepal\n"
     ]
    }
   ],
   "source": [
    "#for Loop\n",
    "for n in range(0,5):\n",
    "    print(\"I am From The Federal Democratic Republic of Nepal\")"
   ]
  },
  {
   "cell_type": "markdown",
   "id": "0dfa5b7f",
   "metadata": {},
   "source": [
    "#      ==>Print the following pattern using loop<==\n",
    "    current number= 1 previous number= 0 sum= 1\n",
    "    current number= 2 previous number= 1 sum= 3\n",
    "    current number= 3 previous number= 2 sum= 5\n",
    "    current number= 4 previous number= 3 sum= 7\n",
    "    current number= 5 previous number= 4 sum= 9\n",
    "    current number= 6 previous number= 5 sum= 11\n",
    "    current number= 7 previous number= 6 sum= 13\n",
    "    current number= 8 previous number= 7 sum= 15\n",
    "    current number= 9 previous number= 8 sum= 17\n",
    "    current number= 10 previous number= 9 sum= 19\n",
    "    current number= 11 previous number= 10 sum= 21"
   ]
  },
  {
   "cell_type": "code",
   "execution_count": 22,
   "id": "bcd7b812",
   "metadata": {},
   "outputs": [
    {
     "name": "stdout",
     "output_type": "stream",
     "text": [
      "current number= 1 previous number= 0 sum= 1\n",
      "current number= 2 previous number= 1 sum= 3\n",
      "current number= 3 previous number= 2 sum= 5\n",
      "current number= 4 previous number= 3 sum= 7\n",
      "current number= 5 previous number= 4 sum= 9\n",
      "current number= 6 previous number= 5 sum= 11\n",
      "current number= 7 previous number= 6 sum= 13\n",
      "current number= 8 previous number= 7 sum= 15\n",
      "current number= 9 previous number= 8 sum= 17\n",
      "current number= 10 previous number= 9 sum= 19\n"
     ]
    }
   ],
   "source": [
    "sum=0\n",
    "previous_num=0;\n",
    "for i in range(1,11):\n",
    "    sum= previous_num+i;\n",
    "    print(\"current number=\" ,i,\"previous number=\", previous_num, \"sum=\",sum)\n",
    "    previous_num=i;"
   ]
  },
  {
   "cell_type": "code",
   "execution_count": 53,
   "id": "0c48e09f",
   "metadata": {},
   "outputs": [
    {
     "name": "stdout",
     "output_type": "stream",
     "text": [
      "1\n",
      "22\n",
      "333\n",
      "4444\n"
     ]
    }
   ],
   "source": [
    "for i in range(1,5):\n",
    "    for j in range(i):\n",
    "        print(i,end='')\n",
    "    print()"
   ]
  },
  {
   "cell_type": "code",
   "execution_count": 61,
   "id": "d2a52d52",
   "metadata": {},
   "outputs": [
    {
     "name": "stdout",
     "output_type": "stream",
     "text": [
      "1\n",
      "2\n",
      "2\n",
      "3\n",
      "3\n",
      "3\n",
      "4\n",
      "4\n",
      "4\n",
      "4\n"
     ]
    }
   ],
   "source": [
    "for i in range(1,5):\n",
    "    for j in range(i):\n",
    "         print(i,end='')\n",
    "         print()"
   ]
  },
  {
   "cell_type": "markdown",
   "id": "16310008",
   "metadata": {},
   "source": [
    "#         ==>If-else statements in Python//Python Conditions<==\n",
    "            -->Python supports the usual logical conditions from mathematics:\n",
    "            -->Equals: a == b\n",
    "            -->Not Equals: a != b\n",
    "            -->Less than: a < b\n",
    "            -->Less than or equal to: a <= b\n",
    "            -->Greater than: a > b\n",
    "            -->Greater than or equal to: a >= b"
   ]
  },
  {
   "cell_type": "code",
   "execution_count": null,
   "id": "3524657c",
   "metadata": {},
   "outputs": [],
   "source": []
  },
  {
   "cell_type": "code",
   "execution_count": 47,
   "id": "fb063da0",
   "metadata": {},
   "outputs": [
    {
     "name": "stdout",
     "output_type": "stream",
     "text": [
      "Given Number is:10\n"
     ]
    }
   ],
   "source": [
    "num=10\n",
    "if num==10:\n",
    "    print(\"Given Number is:10\")"
   ]
  },
  {
   "cell_type": "code",
   "execution_count": 48,
   "id": "a42e2fb0",
   "metadata": {},
   "outputs": [
    {
     "name": "stdout",
     "output_type": "stream",
     "text": [
      "Given Number is 10\n"
     ]
    }
   ],
   "source": [
    "num=10\n",
    "if(num==10):\n",
    "    print(\"Given Number is 10\")"
   ]
  },
  {
   "cell_type": "code",
   "execution_count": 7,
   "id": "48a29d79",
   "metadata": {},
   "outputs": [
    {
     "name": "stdout",
     "output_type": "stream",
     "text": [
      "Given Number is 10\n"
     ]
    }
   ],
   "source": [
    "num=10\n",
    "#num=9\n",
    "if(num==10):\n",
    "    print(\"Given Number is 10\")\n",
    "else:\n",
    "    print(\"Given Number is not 10\")"
   ]
  },
  {
   "cell_type": "code",
   "execution_count": 42,
   "id": "00960b49",
   "metadata": {},
   "outputs": [
    {
     "name": "stdout",
     "output_type": "stream",
     "text": [
      "Third Number is Greater\n"
     ]
    }
   ],
   "source": [
    "num1=10\n",
    "num2=8\n",
    "num3=12\n",
    "if(num1>num2 and num1>num3):\n",
    "    print(\"First Number is Greater\")\n",
    "elif(num2>num1 and num2>num3):\n",
    "    print(\"Second Number is greater\")\n",
    "else:\n",
    "    print(\"Third Number is Greater\")"
   ]
  },
  {
   "cell_type": "code",
   "execution_count": 52,
   "id": "00a57529",
   "metadata": {},
   "outputs": [
    {
     "name": "stdout",
     "output_type": "stream",
     "text": [
      "letter is A\n"
     ]
    }
   ],
   "source": [
    "letter =\"A\"\n",
    "if letter==\"B\":\n",
    "    print(\"letter is B\") \n",
    "elif letter==\"c\":\n",
    "    print(\"letter is c\")    \n",
    "elif letter==\"A\":\n",
    "    print(\"letter is A\")\n",
    "else:\n",
    "    print(\"letter is not A,B,c\")"
   ]
  },
  {
   "cell_type": "markdown",
   "id": "89d72442",
   "metadata": {},
   "source": [
    "#              ==>Raising an Exception in Python <==\n",
    "                    -->try:\n",
    "                    -->except:"
   ]
  },
  {
   "cell_type": "code",
   "execution_count": 62,
   "id": "95fa696b",
   "metadata": {},
   "outputs": [
    {
     "name": "stdout",
     "output_type": "stream",
     "text": [
      "No Exception\n"
     ]
    }
   ],
   "source": [
    "try:\n",
    "    print(\"No Exception\")\n",
    "except:\n",
    "    print(\"An Exception Occured\")"
   ]
  },
  {
   "cell_type": "markdown",
   "id": "70bdda32",
   "metadata": {},
   "source": [
    "#               ==>Input from user in Python<=="
   ]
  },
  {
   "cell_type": "code",
   "execution_count": 80,
   "id": "ad1b1431",
   "metadata": {},
   "outputs": [
    {
     "name": "stdout",
     "output_type": "stream",
     "text": [
      "Enter first number6\n",
      "Enter second number7\n",
      "sum 67\n"
     ]
    }
   ],
   "source": [
    "a=input(\"Enter first number\")\n",
    "b=input(\"Enter second number\")\n",
    "c=a+b\n",
    "print(\"sum\",c)\n",
    "#BY default string input is taken from user-->if we want to take numeric input, we can typecast"
   ]
  },
  {
   "cell_type": "code",
   "execution_count": 79,
   "id": "110fc9b6",
   "metadata": {
    "scrolled": true
   },
   "outputs": [
    {
     "name": "stdout",
     "output_type": "stream",
     "text": [
      "Enter first number8\n",
      "Enter second number8\n",
      "sum 16\n"
     ]
    }
   ],
   "source": [
    "a=int(input(\"Enter first number\"))\n",
    "b=int(input(\"Enter second number\"))\n",
    "c=a+b\n",
    "print(\"sum\",c)"
   ]
  },
  {
   "cell_type": "code",
   "execution_count": 83,
   "id": "be046cbb",
   "metadata": {},
   "outputs": [
    {
     "name": "stdout",
     "output_type": "stream",
     "text": [
      "Enter first name:Anjan\n",
      "Enter last name:Kc\n",
      "Kc Anjan\n"
     ]
    }
   ],
   "source": [
    "a=input(\"Enter first name:\")\n",
    "b=input(\"Enter last name:\")\n",
    "c=b+\" \"+a\n",
    "print(c)\n"
   ]
  },
  {
   "cell_type": "code",
   "execution_count": null,
   "id": "a5575da2",
   "metadata": {},
   "outputs": [],
   "source": []
  }
 ],
 "metadata": {
  "kernelspec": {
   "display_name": "Python 3 (ipykernel)",
   "language": "python",
   "name": "python3"
  },
  "language_info": {
   "codemirror_mode": {
    "name": "ipython",
    "version": 3
   },
   "file_extension": ".py",
   "mimetype": "text/x-python",
   "name": "python",
   "nbconvert_exporter": "python",
   "pygments_lexer": "ipython3",
   "version": "3.11.1"
  },
  "vscode": {
   "interpreter": {
    "hash": "7efa0102473cc365dc960628bc14c2fa509771872efd5c90b3fcbc26e1dc733a"
   }
  }
 },
 "nbformat": 4,
 "nbformat_minor": 5
}

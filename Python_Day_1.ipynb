{
 "cells": [
  {
   "cell_type": "markdown",
   "id": "41d83829",
   "metadata": {},
   "source": [
    "                               ==>#Python Day_1<=="
   ]
  },
  {
   "cell_type": "markdown",
   "id": "ff8e35c0",
   "metadata": {},
   "source": [
    "# What is Python?\n",
    "==>Python is a very popular general-purpose interpreted, interactive, object-oriented, and high-level programming language.\n",
    "==>Python supports multiple programming paradigms, including \n",
    "        -->Procedural programming language\n",
    "        -->Object Oriented programming language and \n",
    "        -->Functional programming language.\n",
    "        -->Python design philosophy emphasizes code readability with the use of significant indentation."
   ]
  },
  {
   "cell_type": "markdown",
   "id": "5246963e",
   "metadata": {},
   "source": [
    "#         ==> First Program in Python and Basic Syntax in Python <=="
   ]
  },
  {
   "cell_type": "code",
   "execution_count": 5,
   "id": "a55e787e",
   "metadata": {},
   "outputs": [
    {
     "name": "stdout",
     "output_type": "stream",
     "text": [
      "Hello, World!\n",
      "I am From The Federal Democratic Republic of Nepal\n"
     ]
    }
   ],
   "source": [
    "#simple program: print hello word\n",
    "print(\"Hello, World!\") \n",
    "print(\"I am From The Federal Democratic Republic of Nepal\")\n"
   ]
  },
  {
   "cell_type": "markdown",
   "id": "434414cc",
   "metadata": {},
   "source": [
    "#                        ==>Comments in Python  <==\n",
    "      1.Single line comments--> Single Line Comments starts with a #, and Python will ignore them.\n",
    "           *eg. #----comments------\n",
    "      2.Multi Line Comments--> For Multi Line Comments,you can add triple quotes in your code, and place your comment inside it.\n",
    "          *eg. '''----comments----'''\n",
    "\n"
   ]
  },
  {
   "cell_type": "code",
   "execution_count": 2,
   "id": "d043a882",
   "metadata": {},
   "outputs": [
    {
     "name": "stdout",
     "output_type": "stream",
     "text": [
      "Hello, Python Programmer\n",
      "I am From The Federal Democratic Republic of Nepal\n"
     ]
    }
   ],
   "source": [
    "#First Python Program--> Single line comments\n",
    "print(\"Hello, Python Programmer\")\n",
    "#Multi Line Comments\n",
    "'''==>Python supports multiple programming paradigms, including \n",
    "        -->Procedural programming language\n",
    "        -->Object Oriented programming language and \n",
    "        -->Functional programming language.\n",
    "        -->Python design philosophy emphasizes code readability with the use of significant indentation.'''\n",
    "print(\"I am From The Federal Democratic Republic of Nepal\")"
   ]
  },
  {
   "cell_type": "markdown",
   "id": "28b66e32",
   "metadata": {},
   "source": [
    "# ==>  Data Type in Python<==\n",
    "==>Variables do not need to be declared with any particular type in python.\n",
    "==>Python has the following data types built-in by default, in these categories:\n",
    "      *Text Type: str \n",
    "      *Numeric Types: int, float, complex\n",
    "      *Sequence Types: list, tuple, range\n",
    "      *Mapping Type: dict \n",
    "      *Set Types: set, frozenset \n",
    "      *Boolean Type: bool \n",
    "      *Binary Types: bytes, bytearray, memoryview \n",
    "      *None Type: NoneType"
   ]
  },
  {
   "cell_type": "code",
   "execution_count": 13,
   "id": "327df35c",
   "metadata": {},
   "outputs": [
    {
     "name": "stdout",
     "output_type": "stream",
     "text": [
      "<class 'int'>\n",
      "<class 'str'>\n",
      "10\n",
      "10\n",
      "10.0\n",
      "<class 'str'>\n",
      "<class 'int'>\n",
      "<class 'float'>\n"
     ]
    }
   ],
   "source": [
    "#Print the data type of the variable x and y\n",
    "x = 5\n",
    "y=\"Nepal\"\n",
    "print(type(x))\n",
    "print(type(y))\n",
    "\n",
    "#For Type Casting \n",
    "p= str(10)    #==> x will be '10'\n",
    "q= int(10)    #==>y will be 10\n",
    "r= float(10)  #==> z will be 10.0\n",
    "print(p)\n",
    "print(q)\n",
    "print(r)\n",
    "print(type(p))\n",
    "print(type(q))\n",
    "print(type(r))"
   ]
  },
  {
   "cell_type": "markdown",
   "id": "08043036",
   "metadata": {},
   "source": [
    "# Assigning Multiple values to Multiple Variable"
   ]
  },
  {
   "cell_type": "code",
   "execution_count": 14,
   "id": "cf5482a9",
   "metadata": {},
   "outputs": [
    {
     "name": "stdout",
     "output_type": "stream",
     "text": [
      "15\n",
      "25\n",
      "35\n"
     ]
    }
   ],
   "source": [
    "x,y,z=15,25,35\n",
    "print(x)\n",
    "print(y)\n",
    "print(z)"
   ]
  },
  {
   "cell_type": "code",
   "execution_count": 15,
   "id": "14542e31",
   "metadata": {},
   "outputs": [
    {
     "name": "stdout",
     "output_type": "stream",
     "text": [
      "25\n",
      "50\n",
      "Hello! Nepal\n"
     ]
    }
   ],
   "source": [
    "x,y,z=25,50,\"Hello! Nepal\"\n",
    "print(x)\n",
    "print(y)\n",
    "print(z)"
   ]
  },
  {
   "cell_type": "code",
   "execution_count": 21,
   "id": "ff5a4e5b",
   "metadata": {},
   "outputs": [
    {
     "name": "stdout",
     "output_type": "stream",
     "text": [
      "Computer Engineering!\n",
      "IT Engineering!\n",
      "CVIL Engineering\n"
     ]
    }
   ],
   "source": [
    "x,y,z=\"Computer Engineering!\",\"IT Engineering!\",\"CVIL Engineering\"\n",
    "print(x)\n",
    "print(y)\n",
    "print(z)"
   ]
  },
  {
   "cell_type": "code",
   "execution_count": null,
   "id": "6c9d9e3b",
   "metadata": {},
   "outputs": [],
   "source": []
  }
 ],
 "metadata": {
  "kernelspec": {
   "display_name": "Python 3 (ipykernel)",
   "language": "python",
   "name": "python3"
  },
  "language_info": {
   "codemirror_mode": {
    "name": "ipython",
    "version": 3
   },
   "file_extension": ".py",
   "mimetype": "text/x-python",
   "name": "python",
   "nbconvert_exporter": "python",
   "pygments_lexer": "ipython3",
   "version": "3.11.1"
  },
  "vscode": {
   "interpreter": {
    "hash": "7efa0102473cc365dc960628bc14c2fa509771872efd5c90b3fcbc26e1dc733a"
   }
  }
 },
 "nbformat": 4,
 "nbformat_minor": 5
}

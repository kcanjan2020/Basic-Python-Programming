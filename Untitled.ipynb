{
 "cells": [
  {
   "cell_type": "code",
   "execution_count": null,
   "id": "97db6a7d",
   "metadata": {},
   "outputs": [],
   "source": [
    "my_str=\"Anjan KC\""
   ]
  },
  {
   "cell_type": "code",
   "execution_count": null,
   "id": "9c093b1a",
   "metadata": {},
   "outputs": [],
   "source": [
    "my_str."
   ]
  }
 ],
 "metadata": {
  "kernelspec": {
   "display_name": "Python 3 (ipykernel)",
   "language": "python",
   "name": "python3"
  },
  "language_info": {
   "codemirror_mode": {
    "name": "ipython",
    "version": 3
   },
   "file_extension": ".py",
   "mimetype": "text/x-python",
   "name": "python",
   "nbconvert_exporter": "python",
   "pygments_lexer": "ipython3",
   "version": "3.11.1"
  }
 },
 "nbformat": 4,
 "nbformat_minor": 5
}
